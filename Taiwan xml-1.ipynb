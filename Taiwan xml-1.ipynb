{
 "cells": [
  {
   "cell_type": "code",
   "execution_count": 76,
   "metadata": {},
   "outputs": [],
   "source": [
    "#http://statdb.dgbas.gov.tw/pxweb/dialog/statfile9L.asp?lang=9&strList=L#"
   ]
  },
  {
   "cell_type": "markdown",
   "metadata": {},
   "source": [
    "## import chardet\n",
    "chardet.detect(stats_file)"
   ]
  },
  {
   "cell_type": "code",
   "execution_count": 150,
   "metadata": {},
   "outputs": [
    {
     "name": "stdout",
     "output_type": "stream",
     "text": [
      "Index(['Series'], dtype='object')\n",
      "odict_keys(['@ITEM', 'SeriesProperty'])\n",
      "期中人口(人)\n",
      "---------\n",
      "odict_keys(['@TableName', '@FREQ', '@DECIMALS', '@SERIESTYPE', '@SOURCE', '@UNIT', 'Obs'])\n",
      "---------\n"
     ]
    }
   ],
   "source": [
    "import pandas_read_xml as pdx\n",
    "import pandas as pd\n",
    "\n",
    "file = \"/Users/peterlee/Downloads/NA8101A1Q.xml\"\n",
    "\n",
    "df = pdx.read_xml(file, [\"GenericData\",\"DataSet\"])\n",
    "\n",
    "\n",
    "print(df.keys())\n",
    "\n",
    "\n",
    "\n",
    "firstItem = df[\"Series\"][0]\n",
    "print(firstItem.keys())\n",
    "print(firstItem[\"@ITEM\"])\n",
    "# print(firstItem[\"SeriesProperty\"])\n",
    "print(\"---------\")\n",
    "seriesProperty = firstItem[\"SeriesProperty\"]\n",
    "print(seriesProperty[0].keys())\n",
    "\n",
    "print(\"---------\")\n",
    "obsArray = seriesProperty[0][\"Obs\"]\n",
    "\n",
    "# for obs in obsArray:\n",
    "#     print(obs)"
   ]
  },
  {
   "cell_type": "code",
   "execution_count": 156,
   "metadata": {},
   "outputs": [],
   "source": [
    "rec_grid = list()\n",
    "fields = [\"itemName\", \"tableName\",\"seriesType\", \"source\", \"time\", \"value\"]\n",
    "\n",
    "\n",
    "\n",
    "for item in df[\"Series\"]:\n",
    "    itemName = item[\"@ITEM\"]\n",
    "#     print(f\"\"\"itemName: {tableName}\"\"\")\n",
    "    propertyItems = item[\"SeriesProperty\"]\n",
    "    for propertyItem in propertyItems:\n",
    "        tableName = propertyItem[\"@TableName\"]\n",
    "        seriesType = propertyItem[\"@SERIESTYPE\"]\n",
    "        source = propertyItem[\"@SOURCE\"]\n",
    "        obsItems = propertyItem[\"Obs\"]\n",
    "        for obsItem in obsItems:\n",
    "            TIME_PERIOD = obsItem[\"@TIME_PERIOD\"]\n",
    "            OBS_VALUE = obsItem[\"@OBS_VALUE\"]\n",
    "            itemDict = {\"itemName\":itemName, \"tableName\": tableName, \"seriesType\": seriesType, \"source\": source, \"time\": TIME_PERIOD, \"value\": OBS_VALUE}\n",
    "            rec_grid.append(itemDict)"
   ]
  },
  {
   "cell_type": "markdown",
   "metadata": {},
   "source": [
    "# tree = ET.parse(stats_file)ˋ"
   ]
  },
  {
   "cell_type": "code",
   "execution_count": 153,
   "metadata": {},
   "outputs": [],
   "source": [
    "resultDF = pd.DataFrame(rec_grid, columns=fields)"
   ]
  },
  {
   "cell_type": "code",
   "execution_count": 154,
   "metadata": {},
   "outputs": [
    {
     "data": {
      "text/html": [
       "<div>\n",
       "<style scoped>\n",
       "    .dataframe tbody tr th:only-of-type {\n",
       "        vertical-align: middle;\n",
       "    }\n",
       "\n",
       "    .dataframe tbody tr th {\n",
       "        vertical-align: top;\n",
       "    }\n",
       "\n",
       "    .dataframe thead th {\n",
       "        text-align: right;\n",
       "    }\n",
       "</style>\n",
       "<table border=\"1\" class=\"dataframe\">\n",
       "  <thead>\n",
       "    <tr style=\"text-align: right;\">\n",
       "      <th></th>\n",
       "      <th>itemName</th>\n",
       "      <th>tableName</th>\n",
       "      <th>seriesType</th>\n",
       "      <th>source</th>\n",
       "      <th>time</th>\n",
       "      <th>value</th>\n",
       "    </tr>\n",
       "  </thead>\n",
       "  <tbody>\n",
       "    <tr>\n",
       "      <th>0</th>\n",
       "      <td>期中人口(人)</td>\n",
       "      <td>國民所得統計常用資料</td>\n",
       "      <td>原始值</td>\n",
       "      <td>行政院主計總處</td>\n",
       "      <td>1961Q1</td>\n",
       "      <td>10895610</td>\n",
       "    </tr>\n",
       "    <tr>\n",
       "      <th>1</th>\n",
       "      <td>期中人口(人)</td>\n",
       "      <td>國民所得統計常用資料</td>\n",
       "      <td>原始值</td>\n",
       "      <td>行政院主計總處</td>\n",
       "      <td>1961Q2</td>\n",
       "      <td>10985460</td>\n",
       "    </tr>\n",
       "    <tr>\n",
       "      <th>2</th>\n",
       "      <td>期中人口(人)</td>\n",
       "      <td>國民所得統計常用資料</td>\n",
       "      <td>原始值</td>\n",
       "      <td>行政院主計總處</td>\n",
       "      <td>1961Q3</td>\n",
       "      <td>11075310</td>\n",
       "    </tr>\n",
       "    <tr>\n",
       "      <th>3</th>\n",
       "      <td>期中人口(人)</td>\n",
       "      <td>國民所得統計常用資料</td>\n",
       "      <td>原始值</td>\n",
       "      <td>行政院主計總處</td>\n",
       "      <td>1961Q4</td>\n",
       "      <td>11165159</td>\n",
       "    </tr>\n",
       "    <tr>\n",
       "      <th>4</th>\n",
       "      <td>期中人口(人)</td>\n",
       "      <td>國民所得統計常用資料</td>\n",
       "      <td>原始值</td>\n",
       "      <td>行政院主計總處</td>\n",
       "      <td>1962Q1</td>\n",
       "      <td>11255692</td>\n",
       "    </tr>\n",
       "    <tr>\n",
       "      <th>...</th>\n",
       "      <td>...</td>\n",
       "      <td>...</td>\n",
       "      <td>...</td>\n",
       "      <td>...</td>\n",
       "      <td>...</td>\n",
       "      <td>...</td>\n",
       "    </tr>\n",
       "    <tr>\n",
       "      <th>7165</th>\n",
       "      <td>平均每人所得(名目值，美元)</td>\n",
       "      <td>國民所得統計常用資料</td>\n",
       "      <td>年增率(%)</td>\n",
       "      <td>行政院主計總處</td>\n",
       "      <td>2019Q3</td>\n",
       "      <td>1.51</td>\n",
       "    </tr>\n",
       "    <tr>\n",
       "      <th>7166</th>\n",
       "      <td>平均每人所得(名目值，美元)</td>\n",
       "      <td>國民所得統計常用資料</td>\n",
       "      <td>年增率(%)</td>\n",
       "      <td>行政院主計總處</td>\n",
       "      <td>2019Q4</td>\n",
       "      <td>3.1</td>\n",
       "    </tr>\n",
       "    <tr>\n",
       "      <th>7167</th>\n",
       "      <td>平均每人所得(名目值，美元)</td>\n",
       "      <td>國民所得統計常用資料</td>\n",
       "      <td>年增率(%)</td>\n",
       "      <td>行政院主計總處</td>\n",
       "      <td>2020Q1</td>\n",
       "      <td>3.07</td>\n",
       "    </tr>\n",
       "    <tr>\n",
       "      <th>7168</th>\n",
       "      <td>平均每人所得(名目值，美元)</td>\n",
       "      <td>國民所得統計常用資料</td>\n",
       "      <td>年增率(%)</td>\n",
       "      <td>行政院主計總處</td>\n",
       "      <td>2020Q2</td>\n",
       "      <td>4.38</td>\n",
       "    </tr>\n",
       "    <tr>\n",
       "      <th>7169</th>\n",
       "      <td>平均每人所得(名目值，美元)</td>\n",
       "      <td>國民所得統計常用資料</td>\n",
       "      <td>年增率(%)</td>\n",
       "      <td>行政院主計總處</td>\n",
       "      <td>2020Q3</td>\n",
       "      <td>15.37</td>\n",
       "    </tr>\n",
       "  </tbody>\n",
       "</table>\n",
       "<p>7170 rows × 6 columns</p>\n",
       "</div>"
      ],
      "text/plain": [
       "            itemName   tableName seriesType   source    time     value\n",
       "0            期中人口(人)  國民所得統計常用資料        原始值  行政院主計總處  1961Q1  10895610\n",
       "1            期中人口(人)  國民所得統計常用資料        原始值  行政院主計總處  1961Q2  10985460\n",
       "2            期中人口(人)  國民所得統計常用資料        原始值  行政院主計總處  1961Q3  11075310\n",
       "3            期中人口(人)  國民所得統計常用資料        原始值  行政院主計總處  1961Q4  11165159\n",
       "4            期中人口(人)  國民所得統計常用資料        原始值  行政院主計總處  1962Q1  11255692\n",
       "...              ...         ...        ...      ...     ...       ...\n",
       "7165  平均每人所得(名目值，美元)  國民所得統計常用資料     年增率(%)  行政院主計總處  2019Q3      1.51\n",
       "7166  平均每人所得(名目值，美元)  國民所得統計常用資料     年增率(%)  行政院主計總處  2019Q4       3.1\n",
       "7167  平均每人所得(名目值，美元)  國民所得統計常用資料     年增率(%)  行政院主計總處  2020Q1      3.07\n",
       "7168  平均每人所得(名目值，美元)  國民所得統計常用資料     年增率(%)  行政院主計總處  2020Q2      4.38\n",
       "7169  平均每人所得(名目值，美元)  國民所得統計常用資料     年增率(%)  行政院主計總處  2020Q3     15.37\n",
       "\n",
       "[7170 rows x 6 columns]"
      ]
     },
     "execution_count": 154,
     "metadata": {},
     "output_type": "execute_result"
    }
   ],
   "source": [
    "resultDF\n",
    "\n"
   ]
  },
  {
   "cell_type": "code",
   "execution_count": 111,
   "metadata": {},
   "outputs": [],
   "source": [
    "import matplotlib.pyplot as plt"
   ]
  },
  {
   "cell_type": "code",
   "execution_count": 113,
   "metadata": {},
   "outputs": [
    {
     "ename": "TypeError",
     "evalue": "no numeric data to plot",
     "output_type": "error",
     "traceback": [
      "\u001b[0;31m---------------------------------------------------------------------------\u001b[0m",
      "\u001b[0;31mTypeError\u001b[0m                                 Traceback (most recent call last)",
      "\u001b[0;32m<ipython-input-113-c0c8c0aff1ce>\u001b[0m in \u001b[0;36m<module>\u001b[0;34m\u001b[0m\n\u001b[1;32m      2\u001b[0m \u001b[0mresultDF\u001b[0m \u001b[0;34m=\u001b[0m \u001b[0mresultDF\u001b[0m\u001b[0;34m.\u001b[0m\u001b[0mcumsum\u001b[0m\u001b[0;34m(\u001b[0m\u001b[0;34m)\u001b[0m\u001b[0;34m\u001b[0m\u001b[0;34m\u001b[0m\u001b[0m\n\u001b[1;32m      3\u001b[0m \u001b[0mplt\u001b[0m\u001b[0;34m.\u001b[0m\u001b[0mfigure\u001b[0m\u001b[0;34m(\u001b[0m\u001b[0;34m)\u001b[0m\u001b[0;34m;\u001b[0m\u001b[0;34m\u001b[0m\u001b[0;34m\u001b[0m\u001b[0m\n\u001b[0;32m----> 4\u001b[0;31m \u001b[0mresultDF\u001b[0m\u001b[0;34m.\u001b[0m\u001b[0mplot\u001b[0m\u001b[0;34m(\u001b[0m\u001b[0;34m)\u001b[0m\u001b[0;34m\u001b[0m\u001b[0;34m\u001b[0m\u001b[0m\n\u001b[0m",
      "\u001b[0;32m/usr/local/lib/python3.8/site-packages/pandas/plotting/_core.py\u001b[0m in \u001b[0;36m__call__\u001b[0;34m(self, *args, **kwargs)\u001b[0m\n\u001b[1;32m    953\u001b[0m                     \u001b[0mdata\u001b[0m\u001b[0;34m.\u001b[0m\u001b[0mcolumns\u001b[0m \u001b[0;34m=\u001b[0m \u001b[0mlabel_name\u001b[0m\u001b[0;34m\u001b[0m\u001b[0;34m\u001b[0m\u001b[0m\n\u001b[1;32m    954\u001b[0m \u001b[0;34m\u001b[0m\u001b[0m\n\u001b[0;32m--> 955\u001b[0;31m         \u001b[0;32mreturn\u001b[0m \u001b[0mplot_backend\u001b[0m\u001b[0;34m.\u001b[0m\u001b[0mplot\u001b[0m\u001b[0;34m(\u001b[0m\u001b[0mdata\u001b[0m\u001b[0;34m,\u001b[0m \u001b[0mkind\u001b[0m\u001b[0;34m=\u001b[0m\u001b[0mkind\u001b[0m\u001b[0;34m,\u001b[0m \u001b[0;34m**\u001b[0m\u001b[0mkwargs\u001b[0m\u001b[0;34m)\u001b[0m\u001b[0;34m\u001b[0m\u001b[0;34m\u001b[0m\u001b[0m\n\u001b[0m\u001b[1;32m    956\u001b[0m \u001b[0;34m\u001b[0m\u001b[0m\n\u001b[1;32m    957\u001b[0m     \u001b[0m__call__\u001b[0m\u001b[0;34m.\u001b[0m\u001b[0m__doc__\u001b[0m \u001b[0;34m=\u001b[0m \u001b[0m__doc__\u001b[0m\u001b[0;34m\u001b[0m\u001b[0;34m\u001b[0m\u001b[0m\n",
      "\u001b[0;32m/usr/local/lib/python3.8/site-packages/pandas/plotting/_matplotlib/__init__.py\u001b[0m in \u001b[0;36mplot\u001b[0;34m(data, kind, **kwargs)\u001b[0m\n\u001b[1;32m     59\u001b[0m             \u001b[0mkwargs\u001b[0m\u001b[0;34m[\u001b[0m\u001b[0;34m\"ax\"\u001b[0m\u001b[0;34m]\u001b[0m \u001b[0;34m=\u001b[0m \u001b[0mgetattr\u001b[0m\u001b[0;34m(\u001b[0m\u001b[0max\u001b[0m\u001b[0;34m,\u001b[0m \u001b[0;34m\"left_ax\"\u001b[0m\u001b[0;34m,\u001b[0m \u001b[0max\u001b[0m\u001b[0;34m)\u001b[0m\u001b[0;34m\u001b[0m\u001b[0;34m\u001b[0m\u001b[0m\n\u001b[1;32m     60\u001b[0m     \u001b[0mplot_obj\u001b[0m \u001b[0;34m=\u001b[0m \u001b[0mPLOT_CLASSES\u001b[0m\u001b[0;34m[\u001b[0m\u001b[0mkind\u001b[0m\u001b[0;34m]\u001b[0m\u001b[0;34m(\u001b[0m\u001b[0mdata\u001b[0m\u001b[0;34m,\u001b[0m \u001b[0;34m**\u001b[0m\u001b[0mkwargs\u001b[0m\u001b[0;34m)\u001b[0m\u001b[0;34m\u001b[0m\u001b[0;34m\u001b[0m\u001b[0m\n\u001b[0;32m---> 61\u001b[0;31m     \u001b[0mplot_obj\u001b[0m\u001b[0;34m.\u001b[0m\u001b[0mgenerate\u001b[0m\u001b[0;34m(\u001b[0m\u001b[0;34m)\u001b[0m\u001b[0;34m\u001b[0m\u001b[0;34m\u001b[0m\u001b[0m\n\u001b[0m\u001b[1;32m     62\u001b[0m     \u001b[0mplot_obj\u001b[0m\u001b[0;34m.\u001b[0m\u001b[0mdraw\u001b[0m\u001b[0;34m(\u001b[0m\u001b[0;34m)\u001b[0m\u001b[0;34m\u001b[0m\u001b[0;34m\u001b[0m\u001b[0m\n\u001b[1;32m     63\u001b[0m     \u001b[0;32mreturn\u001b[0m \u001b[0mplot_obj\u001b[0m\u001b[0;34m.\u001b[0m\u001b[0mresult\u001b[0m\u001b[0;34m\u001b[0m\u001b[0;34m\u001b[0m\u001b[0m\n",
      "\u001b[0;32m/usr/local/lib/python3.8/site-packages/pandas/plotting/_matplotlib/core.py\u001b[0m in \u001b[0;36mgenerate\u001b[0;34m(self)\u001b[0m\n\u001b[1;32m    276\u001b[0m     \u001b[0;32mdef\u001b[0m \u001b[0mgenerate\u001b[0m\u001b[0;34m(\u001b[0m\u001b[0mself\u001b[0m\u001b[0;34m)\u001b[0m\u001b[0;34m:\u001b[0m\u001b[0;34m\u001b[0m\u001b[0;34m\u001b[0m\u001b[0m\n\u001b[1;32m    277\u001b[0m         \u001b[0mself\u001b[0m\u001b[0;34m.\u001b[0m\u001b[0m_args_adjust\u001b[0m\u001b[0;34m(\u001b[0m\u001b[0;34m)\u001b[0m\u001b[0;34m\u001b[0m\u001b[0;34m\u001b[0m\u001b[0m\n\u001b[0;32m--> 278\u001b[0;31m         \u001b[0mself\u001b[0m\u001b[0;34m.\u001b[0m\u001b[0m_compute_plot_data\u001b[0m\u001b[0;34m(\u001b[0m\u001b[0;34m)\u001b[0m\u001b[0;34m\u001b[0m\u001b[0;34m\u001b[0m\u001b[0m\n\u001b[0m\u001b[1;32m    279\u001b[0m         \u001b[0mself\u001b[0m\u001b[0;34m.\u001b[0m\u001b[0m_setup_subplots\u001b[0m\u001b[0;34m(\u001b[0m\u001b[0;34m)\u001b[0m\u001b[0;34m\u001b[0m\u001b[0;34m\u001b[0m\u001b[0m\n\u001b[1;32m    280\u001b[0m         \u001b[0mself\u001b[0m\u001b[0;34m.\u001b[0m\u001b[0m_make_plot\u001b[0m\u001b[0;34m(\u001b[0m\u001b[0;34m)\u001b[0m\u001b[0;34m\u001b[0m\u001b[0;34m\u001b[0m\u001b[0m\n",
      "\u001b[0;32m/usr/local/lib/python3.8/site-packages/pandas/plotting/_matplotlib/core.py\u001b[0m in \u001b[0;36m_compute_plot_data\u001b[0;34m(self)\u001b[0m\n\u001b[1;32m    439\u001b[0m         \u001b[0;31m# no non-numeric frames or series allowed\u001b[0m\u001b[0;34m\u001b[0m\u001b[0;34m\u001b[0m\u001b[0;34m\u001b[0m\u001b[0m\n\u001b[1;32m    440\u001b[0m         \u001b[0;32mif\u001b[0m \u001b[0mis_empty\u001b[0m\u001b[0;34m:\u001b[0m\u001b[0;34m\u001b[0m\u001b[0;34m\u001b[0m\u001b[0m\n\u001b[0;32m--> 441\u001b[0;31m             \u001b[0;32mraise\u001b[0m \u001b[0mTypeError\u001b[0m\u001b[0;34m(\u001b[0m\u001b[0;34m\"no numeric data to plot\"\u001b[0m\u001b[0;34m)\u001b[0m\u001b[0;34m\u001b[0m\u001b[0;34m\u001b[0m\u001b[0m\n\u001b[0m\u001b[1;32m    442\u001b[0m \u001b[0;34m\u001b[0m\u001b[0m\n\u001b[1;32m    443\u001b[0m         \u001b[0mself\u001b[0m\u001b[0;34m.\u001b[0m\u001b[0mdata\u001b[0m \u001b[0;34m=\u001b[0m \u001b[0mnumeric_data\u001b[0m\u001b[0;34m.\u001b[0m\u001b[0mapply\u001b[0m\u001b[0;34m(\u001b[0m\u001b[0mself\u001b[0m\u001b[0;34m.\u001b[0m\u001b[0m_convert_to_ndarray\u001b[0m\u001b[0;34m)\u001b[0m\u001b[0;34m\u001b[0m\u001b[0;34m\u001b[0m\u001b[0m\n",
      "\u001b[0;31mTypeError\u001b[0m: no numeric data to plot"
     ]
    },
    {
     "data": {
      "text/plain": [
       "<Figure size 432x288 with 0 Axes>"
      ]
     },
     "metadata": {},
     "output_type": "display_data"
    }
   ],
   "source": [
    "# df = pd.DataFrame(np.random.randn(1000, 4), index=ts.index, columns=list(\"ABCD\"))\n",
    "resultDF = resultDF.cumsum()\n",
    "plt.figure();\n",
    "resultDF.plot()"
   ]
  },
  {
   "cell_type": "code",
   "execution_count": null,
   "metadata": {},
   "outputs": [],
   "source": []
  }
 ],
 "metadata": {
  "kernelspec": {
   "display_name": "Python 3",
   "language": "python",
   "name": "python3"
  },
  "language_info": {
   "codemirror_mode": {
    "name": "ipython",
    "version": 3
   },
   "file_extension": ".py",
   "mimetype": "text/x-python",
   "name": "python",
   "nbconvert_exporter": "python",
   "pygments_lexer": "ipython3",
   "version": "3.8.7"
  }
 },
 "nbformat": 4,
 "nbformat_minor": 4
}
